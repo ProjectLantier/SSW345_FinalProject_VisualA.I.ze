{
 "cells": [
  {
   "cell_type": "markdown",
   "metadata": {
    "slideshow": {
     "slide_type": "slide"
    }
   },
   "source": [
    "# Deep Learning based Object Detection\n",
    "**Satya Mallick, LearnOpenCV.com**\n",
    "\n",
    "1. **Architecture** : Mobilenet based Single Shot Multi-Box (SSD)\n",
    "2. **Framework** : Tensorflow"
   ]
  },
  {
   "cell_type": "markdown",
   "metadata": {
    "slideshow": {
     "slide_type": "slide"
    }
   },
   "source": [
    "# Download Model files from Tensorflow model ZOO\n",
    "\n",
    "Model files can be downloaded from the Tensorflow Object Detection Model Zoo\n",
    "https://github.com/tensorflow/models/blob/master/research/object_detection/g3doc/tf2_detection_zoo.md\n",
    "\n",
    "**The cell given below downloads a mobilenet model**\n",
    "\n",
    "## Download mobilenet model file\n",
    "The code below will run on Linux / MacOS systems.\n",
    "Please download the file http://download.tensorflow.org/models/object_detection/ssd_mobilenet_v2_coco_2018_03_29.tar.gz\n",
    "\n",
    "Uncompress it and put it in models folder.\n",
    "\n",
    "**ssd_mobilenet_v2_coco_2018_03_29** <br>\n",
    "|─ checkpoint <br>\n",
    "|─ **frozen_inference_graph.pb** <br>\n",
    "|─ model.ckpt.data-00000-of-00001 <br>\n",
    "|─ model.ckpt.index <br>\n",
    "|─ model.ckpt.meta <br>\n",
    "|─ pipeline.config <br>\n",
    "|─ saved_model <br>\n",
    "|─── saved_model.pb <br>\n",
    "|─── variables <br>"
   ]
  },
  {
   "cell_type": "code",
   "execution_count": 1,
   "metadata": {
    "slideshow": {
     "slide_type": "skip"
    }
   },
   "outputs": [],
   "source": [
    "import os\n",
    "import cv2\n",
    "import numpy as np\n",
    "import urllib\n",
    "import matplotlib.pyplot as plt\n",
    "%matplotlib inline"
   ]
  },
  {
   "cell_type": "markdown",
   "metadata": {
    "slideshow": {
     "slide_type": "slide"
    }
   },
   "source": [
    "# Create config file from frozen graph\n",
    "\n",
    "1. Extract the files \n",
    "2. Run the [tf_text_graph_ssd.py](https://github.com/opencv/opencv/blob/master/samples/dnn/tf_text_graph_ssd.py) file with input as the path to the frozen_graph.pb file and output as desired.\n",
    "\n",
    "\n",
    "\n",
    "**A sample config file has been included in the models folder**"
   ]
  },
  {
   "cell_type": "code",
   "execution_count": 2,
   "metadata": {},
   "outputs": [],
   "source": [
    "modelFile = \"models/ssd_mobilenet_v2_coco_2018_03_29/frozen_inference_graph.pb\"\n",
    "configFile = \"models/ssd_mobilenet_v2_coco_2018_03_29.pbtxt\"\n",
    "classFile = \"coco_class_labels.txt\"\n",
    "\n",
    "if not os.path.isdir('models'):\n",
    "    os.mkdir(\"models\")\n",
    "\n",
    "if not os.path.isfile(modelFile):\n",
    "    os.chdir(\"models\")\n",
    "    # Download the tensorflow Model\n",
    "    urllib.request.urlretrieve('http://download.tensorflow.org/models/object_detection/ssd_mobilenet_v2_coco_2018_03_29.tar.gz', 'ssd_mobilenet_v2_coco_2018_03_29.tar.gz')\n",
    "\n",
    "    # Uncompress the file\n",
    "    !tar -xvf ssd_mobilenet_v2_coco_2018_03_29.tar.gz\n",
    "\n",
    "    # Delete the tar.gz file\n",
    "    os.remove('ssd_mobilenet_v2_coco_2018_03_29.tar.gz')\n",
    "\n",
    "    # Come back to the previous directory\n",
    "    os.chdir(\"..\")\n",
    "\n"
   ]
  },
  {
   "cell_type": "markdown",
   "metadata": {
    "slideshow": {
     "slide_type": "slide"
    }
   },
   "source": [
    "# Check Class Labels \n"
   ]
  },
  {
   "cell_type": "code",
   "execution_count": 3,
   "metadata": {
    "scrolled": true,
    "slideshow": {
     "slide_type": "-"
    }
   },
   "outputs": [
    {
     "ename": "FileNotFoundError",
     "evalue": "[Errno 2] No such file or directory: 'coco_class_labels.txt'",
     "output_type": "error",
     "traceback": [
      "\u001b[1;31m---------------------------------------------------------------------------\u001b[0m",
      "\u001b[1;31mFileNotFoundError\u001b[0m                         Traceback (most recent call last)",
      "\u001b[1;32mc:\\Users\\nicko\\SSW345\\VisualizeAI\\object_detection.ipynb Cell 7\u001b[0m in \u001b[0;36m<cell line: 1>\u001b[1;34m()\u001b[0m\n\u001b[1;32m----> <a href='vscode-notebook-cell:/c%3A/Users/nicko/SSW345/VisualizeAI/object_detection.ipynb#W6sZmlsZQ%3D%3D?line=0'>1</a>\u001b[0m \u001b[39mwith\u001b[39;00m \u001b[39mopen\u001b[39;49m(classFile) \u001b[39mas\u001b[39;00m fp:\n\u001b[0;32m      <a href='vscode-notebook-cell:/c%3A/Users/nicko/SSW345/VisualizeAI/object_detection.ipynb#W6sZmlsZQ%3D%3D?line=1'>2</a>\u001b[0m     labels \u001b[39m=\u001b[39m fp\u001b[39m.\u001b[39mread()\u001b[39m.\u001b[39msplit(\u001b[39m\"\u001b[39m\u001b[39m\\n\u001b[39;00m\u001b[39m\"\u001b[39m)\n\u001b[0;32m      <a href='vscode-notebook-cell:/c%3A/Users/nicko/SSW345/VisualizeAI/object_detection.ipynb#W6sZmlsZQ%3D%3D?line=2'>3</a>\u001b[0m \u001b[39mprint\u001b[39m(labels)\n",
      "\u001b[1;31mFileNotFoundError\u001b[0m: [Errno 2] No such file or directory: 'coco_class_labels.txt'"
     ]
    }
   ],
   "source": [
    "with open(classFile) as fp:\n",
    "    labels = fp.read().split(\"\\n\")\n",
    "print(labels)"
   ]
  },
  {
   "cell_type": "markdown",
   "metadata": {
    "slideshow": {
     "slide_type": "slide"
    }
   },
   "source": [
    "**The steps for performing infernece using a DNN model are summarized below:**\n",
    "    \n",
    "1. Load the model and input image into memory.\n",
    "2. Detect objects using a forward pass through the network.\n",
    "3. Display the detected objects with bounding boxes and class labels."
   ]
  },
  {
   "cell_type": "markdown",
   "metadata": {
    "slideshow": {
     "slide_type": "slide"
    }
   },
   "source": [
    "# Read Tensorflow Model"
   ]
  },
  {
   "cell_type": "code",
   "execution_count": null,
   "metadata": {},
   "outputs": [
    {
     "ename": "error",
     "evalue": "OpenCV(4.6.0) D:\\a\\opencv-python\\opencv-python\\opencv\\modules\\dnn\\src\\caffe\\caffe_io.cpp:1126: error: (-2:Unspecified error) FAILED: fs.is_open(). Can't open \"models/ssd_mobilenet_v2_coco_2018_03_29.pbtxt\" in function 'cv::dnn::ReadProtoFromTextFile'\n",
     "output_type": "error",
     "traceback": [
      "\u001b[1;31m---------------------------------------------------------------------------\u001b[0m",
      "\u001b[1;31merror\u001b[0m                                     Traceback (most recent call last)",
      "\u001b[1;32mc:\\Users\\nicko\\comp-vision-intro\\13_Object_Detection\\13_tf_object_detection.ipynb Cell 11\u001b[0m in \u001b[0;36m<cell line: 2>\u001b[1;34m()\u001b[0m\n\u001b[0;32m      <a href='vscode-notebook-cell:/c%3A/Users/nicko/comp-vision-intro/13_Object_Detection/13_tf_object_detection.ipynb#Y250sZmlsZQ%3D%3D?line=0'>1</a>\u001b[0m \u001b[39m# Read the Tensorflow network\u001b[39;00m\n\u001b[1;32m----> <a href='vscode-notebook-cell:/c%3A/Users/nicko/comp-vision-intro/13_Object_Detection/13_tf_object_detection.ipynb#Y250sZmlsZQ%3D%3D?line=1'>2</a>\u001b[0m net \u001b[39m=\u001b[39m cv2\u001b[39m.\u001b[39;49mdnn\u001b[39m.\u001b[39;49mreadNetFromTensorflow(modelFile, configFile)\n",
      "\u001b[1;31merror\u001b[0m: OpenCV(4.6.0) D:\\a\\opencv-python\\opencv-python\\opencv\\modules\\dnn\\src\\caffe\\caffe_io.cpp:1126: error: (-2:Unspecified error) FAILED: fs.is_open(). Can't open \"models/ssd_mobilenet_v2_coco_2018_03_29.pbtxt\" in function 'cv::dnn::ReadProtoFromTextFile'\n"
     ]
    }
   ],
   "source": [
    "# Read the Tensorflow network\n",
    "net = cv2.dnn.readNetFromTensorflow(modelFile, configFile)"
   ]
  },
  {
   "cell_type": "markdown",
   "metadata": {
    "slideshow": {
     "slide_type": "slide"
    }
   },
   "source": [
    "# Detect Objects\n"
   ]
  },
  {
   "cell_type": "code",
   "execution_count": null,
   "metadata": {
    "scrolled": false
   },
   "outputs": [],
   "source": [
    "# For ach file in the directory\n",
    "def detect_objects(net, im):\n",
    "    dim = 300\n",
    "    \n",
    "    # Create a blob from the image\n",
    "    blob = cv2.dnn.blobFromImage(im, 1.0, size=(dim, dim), mean=(0,0,0), swapRB=True, crop=False)\n",
    "\n",
    "    # Pass blob to the network\n",
    "    net.setInput(blob)\n",
    "    \n",
    "    # Peform Prediction\n",
    "    objects = net.forward()\n",
    "    return objects\n"
   ]
  },
  {
   "cell_type": "code",
   "execution_count": null,
   "metadata": {
    "slideshow": {
     "slide_type": "skip"
    }
   },
   "outputs": [],
   "source": [
    "def display_text(im, text, x, y):\n",
    "    \n",
    "    # Get text size \n",
    "    textSize = cv2.getTextSize(text, FONTFACE, FONT_SCALE, THICKNESS)\n",
    "    dim = textSize[0]\n",
    "    baseline = textSize[1]\n",
    "            \n",
    "    # Use text size to create a black rectangle    \n",
    "    cv2.rectangle(im, (x,y-dim[1] - baseline), (x + dim[0], y + baseline), (0,0,0), cv2.FILLED);\n",
    "    # Display text inside the rectangle\n",
    "    cv2.putText(im, text, (x, y-5 ), FONTFACE, FONT_SCALE, (0, 255, 255), THICKNESS, cv2.LINE_AA)\n"
   ]
  },
  {
   "cell_type": "markdown",
   "metadata": {
    "slideshow": {
     "slide_type": "slide"
    }
   },
   "source": [
    "# Display Objects"
   ]
  },
  {
   "cell_type": "code",
   "execution_count": null,
   "metadata": {
    "slideshow": {
     "slide_type": "-"
    }
   },
   "outputs": [],
   "source": [
    "FONTFACE = cv2.FONT_HERSHEY_SIMPLEX\n",
    "FONT_SCALE = 0.7\n",
    "THICKNESS = 1\n",
    "\n",
    "def display_objects(im, objects, threshold = 0.25):\n",
    "\n",
    "    rows = im.shape[0]; cols = im.shape[1]\n",
    "\n",
    "    # For every Detected Object\n",
    "    for i in range(objects.shape[2]):\n",
    "        # Find the class and confidence \n",
    "        classId = int(objects[0, 0, i, 1])\n",
    "        score = float(objects[0, 0, i, 2])\n",
    "        \n",
    "        # Recover original cordinates from normalized coordinates\n",
    "        x = int(objects[0, 0, i, 3] * cols)\n",
    "        y = int(objects[0, 0, i, 4] * rows)\n",
    "        w = int(objects[0, 0, i, 5] * cols - x)\n",
    "        h = int(objects[0, 0, i, 6] * rows - y)\n",
    "        \n",
    "        # Check if the detection is of good quality\n",
    "        if score > threshold:\n",
    "            display_text(im, \"{}\".format(labels[classId]), x, y)\n",
    "            cv2.rectangle(im, (x, y), (x + w, y + h), (255, 255, 255), 2)\n",
    "    \n",
    "    # Convert Image to RGB since we are using Matplotlib for displaying image\n",
    "    mp_img = cv2.cvtColor(im, cv2.COLOR_BGR2RGB)\n",
    "    plt.figure(figsize=(30,10)); plt.imshow(mp_img); plt.show();"
   ]
  },
  {
   "cell_type": "markdown",
   "metadata": {
    "slideshow": {
     "slide_type": "slide"
    }
   },
   "source": [
    "# Results"
   ]
  },
  {
   "cell_type": "code",
   "execution_count": null,
   "metadata": {},
   "outputs": [],
   "source": [
    "im = cv2.imread('images/street.jpg')\n",
    "objects = detect_objects(net, im)\n",
    "display_objects(im, objects)"
   ]
  },
  {
   "cell_type": "code",
   "execution_count": null,
   "metadata": {
    "slideshow": {
     "slide_type": "slide"
    }
   },
   "outputs": [],
   "source": [
    "im = cv2.imread('images/baseball.jpg')\n",
    "objects = detect_objects(net, im)\n",
    "display_objects(im, objects, 0.2)"
   ]
  },
  {
   "cell_type": "markdown",
   "metadata": {
    "slideshow": {
     "slide_type": "slide"
    }
   },
   "source": [
    "# False Alarm"
   ]
  },
  {
   "cell_type": "code",
   "execution_count": null,
   "metadata": {
    "slideshow": {
     "slide_type": "-"
    }
   },
   "outputs": [],
   "source": [
    "im = cv2.imread('images/soccer.jpg')\n",
    "objects = detect_objects(net, im)\n",
    "display_objects(im, objects)"
   ]
  },
  {
   "cell_type": "markdown",
   "metadata": {
    "slideshow": {
     "slide_type": "slide"
    }
   },
   "source": [
    "# Thank You!"
   ]
  }
 ],
 "metadata": {
  "celltoolbar": "Slideshow",
  "kernelspec": {
   "display_name": "Python 3 (ipykernel)",
   "language": "python",
   "name": "python3"
  },
  "language_info": {
   "codemirror_mode": {
    "name": "ipython",
    "version": 3
   },
   "file_extension": ".py",
   "mimetype": "text/x-python",
   "name": "python",
   "nbconvert_exporter": "python",
   "pygments_lexer": "ipython3",
   "version": "3.9.12"
  }
 },
 "nbformat": 4,
 "nbformat_minor": 2
}
